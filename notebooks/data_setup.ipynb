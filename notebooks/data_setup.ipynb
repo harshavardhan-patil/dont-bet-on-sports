{
 "cells": [
  {
   "cell_type": "markdown",
   "metadata": {},
   "source": [
    "### One-Time Data Setup"
   ]
  },
  {
   "cell_type": "code",
   "execution_count": 51,
   "metadata": {},
   "outputs": [],
   "source": [
    "import pandas as pd\n",
    "from pathlib import Path\n",
    "from src.config import INTERIM_DATA_DIR, RAW_DATA_DIR\n",
    "from sklearn.model_selection import train_test_split\n",
    "import re\n",
    "\n",
    "stats_path: Path = RAW_DATA_DIR / \"stats\" / \"Stats-0.csv\"\n",
    "seasons_path: Path = RAW_DATA_DIR / \"seasons\" / \"Season-0.csv\"\n",
    "metadata_path: Path = RAW_DATA_DIR / \"metadata\" / \"Metadata-0.csv\"\n",
    "train_path: Path = INTERIM_DATA_DIR / \"trainset.csv\"\n",
    "test_path: Path = INTERIM_DATA_DIR / \"testset.csv\"\n",
    "base_path: Path = INTERIM_DATA_DIR / \"base.csv\","
   ]
  },
  {
   "cell_type": "code",
   "execution_count": 52,
   "metadata": {},
   "outputs": [],
   "source": [
    "def url_to_key(url):\n",
    "    key = re.search('boxscores/(.+?).htm', url).group(1)\n",
    "    return key"
   ]
  },
  {
   "cell_type": "code",
   "execution_count": 53,
   "metadata": {},
   "outputs": [],
   "source": [
    "df_stats = pd.read_csv(str(stats_path).replace('0','2000'))"
   ]
  },
  {
   "cell_type": "code",
   "execution_count": 54,
   "metadata": {},
   "outputs": [
    {
     "name": "stdout",
     "output_type": "stream",
     "text": [
      "<class 'pandas.core.frame.DataFrame'>\n",
      "RangeIndex: 518 entries, 0 to 517\n",
      "Data columns (total 34 columns):\n",
      " #   Column                Non-Null Count  Dtype  \n",
      "---  ------                --------------  -----  \n",
      " 0   season                518 non-null    int64  \n",
      " 1   event_date            518 non-null    object \n",
      " 2   nano                  518 non-null    object \n",
      " 3   market                518 non-null    object \n",
      " 4   name                  518 non-null    object \n",
      " 5   alias                 518 non-null    object \n",
      " 6   rush_att              518 non-null    int64  \n",
      " 7   rush_yds              518 non-null    int64  \n",
      " 8   rush_tds              518 non-null    int64  \n",
      " 9   pass_cmp              518 non-null    int64  \n",
      " 10  pass_att              518 non-null    int64  \n",
      " 11  pass_cmp_pct          0 non-null      float64\n",
      " 12  pass_yds              518 non-null    int64  \n",
      " 13  pass_tds              518 non-null    int64  \n",
      " 14  pass_int              518 non-null    int64  \n",
      " 15  passer_rating         518 non-null    float64\n",
      " 16  net_pass_yds          518 non-null    int64  \n",
      " 17  total_yds             518 non-null    int64  \n",
      " 18  times_sacked          518 non-null    int64  \n",
      " 19  yds_sacked_for        518 non-null    int64  \n",
      " 20  fumbles               518 non-null    int64  \n",
      " 21  fumbles_lost          518 non-null    int64  \n",
      " 22  turnovers             518 non-null    int64  \n",
      " 23  penalties             518 non-null    int64  \n",
      " 24  penalty_yds           518 non-null    int64  \n",
      " 25  first_downs           518 non-null    int64  \n",
      " 26  third_down_conv       518 non-null    int64  \n",
      " 27  third_down_att        518 non-null    int64  \n",
      " 28  third_down_conv_pct   518 non-null    float64\n",
      " 29  fourth_down_conv      518 non-null    int64  \n",
      " 30  fourth_down_att       518 non-null    int64  \n",
      " 31  fourth_down_conv_pct  518 non-null    float64\n",
      " 32  time_of_possession    518 non-null    int64  \n",
      " 33  boxscore_stats_link   518 non-null    object \n",
      "dtypes: float64(4), int64(24), object(6)\n",
      "memory usage: 137.7+ KB\n"
     ]
    }
   ],
   "source": [
    "df_stats.info()"
   ]
  },
  {
   "cell_type": "code",
   "execution_count": 55,
   "metadata": {},
   "outputs": [],
   "source": [
    "for i in range(2001, 2024):\n",
    "    df_stats = pd.concat([df_stats, pd.read_csv(str(str(stats_path).replace('0',str(i))))], ignore_index=True)"
   ]
  },
  {
   "cell_type": "code",
   "execution_count": 56,
   "metadata": {},
   "outputs": [],
   "source": [
    "df_stats['boxscore_stats_link'] = df_stats['boxscore_stats_link'].map(lambda url: url_to_key(url))"
   ]
  },
  {
   "cell_type": "code",
   "execution_count": 57,
   "metadata": {},
   "outputs": [],
   "source": [
    "df_seasons = pd.read_csv(str(seasons_path).replace('0','2000'))"
   ]
  },
  {
   "cell_type": "code",
   "execution_count": 58,
   "metadata": {},
   "outputs": [
    {
     "name": "stdout",
     "output_type": "stream",
     "text": [
      "<class 'pandas.core.frame.DataFrame'>\n",
      "RangeIndex: 259 entries, 0 to 258\n",
      "Data columns (total 22 columns):\n",
      " #   Column               Non-Null Count  Dtype \n",
      "---  ------               --------------  ----- \n",
      " 0   status               259 non-null    object\n",
      " 1   season               259 non-null    int64 \n",
      " 2   week                 259 non-null    int64 \n",
      " 3   week_day             259 non-null    object\n",
      " 4   event_date           259 non-null    object\n",
      " 5   tm_nano              259 non-null    object\n",
      " 6   tm_market            259 non-null    object\n",
      " 7   tm_name              259 non-null    object\n",
      " 8   tm_alias             259 non-null    object\n",
      " 9   tm_alt_market        259 non-null    object\n",
      " 10  tm_alt_alias         259 non-null    object\n",
      " 11  opp_nano             259 non-null    object\n",
      " 12  opp_market           259 non-null    object\n",
      " 13  opp_name             259 non-null    object\n",
      " 14  opp_alias            259 non-null    object\n",
      " 15  opp_alt_market       259 non-null    object\n",
      " 16  opp_alt_alias        259 non-null    object\n",
      " 17  tm_location          259 non-null    object\n",
      " 18  opp_location         259 non-null    object\n",
      " 19  tm_score             259 non-null    int64 \n",
      " 20  opp_score            259 non-null    int64 \n",
      " 21  boxscore_stats_link  259 non-null    object\n",
      "dtypes: int64(4), object(18)\n",
      "memory usage: 44.6+ KB\n"
     ]
    }
   ],
   "source": [
    "df_seasons.info()"
   ]
  },
  {
   "cell_type": "code",
   "execution_count": 59,
   "metadata": {},
   "outputs": [],
   "source": [
    "for i in range(2001, 2024):\n",
    "    df_seasons = pd.concat([df_seasons, pd.read_csv(str(str(seasons_path).replace('0',str(i))))], ignore_index=True)"
   ]
  },
  {
   "cell_type": "code",
   "execution_count": 60,
   "metadata": {},
   "outputs": [],
   "source": [
    "df_seasons['boxscore_stats_link'] = df_seasons['boxscore_stats_link'].map(lambda url: url_to_key(url))"
   ]
  },
  {
   "cell_type": "code",
   "execution_count": 61,
   "metadata": {},
   "outputs": [
    {
     "name": "stdout",
     "output_type": "stream",
     "text": [
      "<class 'pandas.core.frame.DataFrame'>\n",
      "RangeIndex: 259 entries, 0 to 258\n",
      "Data columns (total 25 columns):\n",
      " #   Column                      Non-Null Count  Dtype  \n",
      "---  ------                      --------------  -----  \n",
      " 0   season                      259 non-null    int64  \n",
      " 1   event_date                  259 non-null    object \n",
      " 2   tm_nano                     259 non-null    object \n",
      " 3   tm_market                   259 non-null    object \n",
      " 4   tm_name                     259 non-null    object \n",
      " 5   tm_alias                    259 non-null    object \n",
      " 6   opp_nano                    259 non-null    object \n",
      " 7   opp_market                  259 non-null    object \n",
      " 8   opp_name                    259 non-null    object \n",
      " 9   opp_alias                   259 non-null    object \n",
      " 10  tm_spread                   259 non-null    float64\n",
      " 11  opp_spread                  259 non-null    float64\n",
      " 12  total                       259 non-null    float64\n",
      " 13  attendance                  259 non-null    int64  \n",
      " 14  duration                    259 non-null    int64  \n",
      " 15  roof_type                   259 non-null    object \n",
      " 16  surface_type                259 non-null    object \n",
      " 17  won_toss                    259 non-null    object \n",
      " 18  won_toss_decision           0 non-null      float64\n",
      " 19  won_toss_overtime           14 non-null     object \n",
      " 20  won_toss_overtime_decision  0 non-null      float64\n",
      " 21  temperature                 207 non-null    float64\n",
      " 22  humidity_pct                207 non-null    float64\n",
      " 23  wind_speed                  207 non-null    float64\n",
      " 24  boxscore_stats_link         259 non-null    object \n",
      "dtypes: float64(8), int64(3), object(14)\n",
      "memory usage: 50.7+ KB\n"
     ]
    }
   ],
   "source": [
    "df_metadata = pd.read_csv(str(metadata_path).replace('0', '2000'))\n",
    "df_metadata.info()"
   ]
  },
  {
   "cell_type": "code",
   "execution_count": 62,
   "metadata": {},
   "outputs": [],
   "source": [
    "for i in range(2001, 2024):\n",
    "    df_metadata = pd.concat([df_metadata, pd.read_csv(str(metadata_path).replace('0',str(i)))], ignore_index=True)"
   ]
  },
  {
   "cell_type": "code",
   "execution_count": 63,
   "metadata": {},
   "outputs": [],
   "source": [
    "df_metadata['boxscore_stats_link'] = df_metadata['boxscore_stats_link'].map(lambda url: url_to_key(url))"
   ]
  },
  {
   "cell_type": "code",
   "execution_count": 64,
   "metadata": {},
   "outputs": [],
   "source": [
    "df_metadata = df_metadata.rename(columns={\"boxscore_stats_link\":\"id\"}).set_index('id')\n",
    "df_seasons = df_seasons.rename(columns={\"boxscore_stats_link\":\"id\"}).set_index('id')\n",
    "df_stats = df_stats.rename(columns={\"boxscore_stats_link\":\"id\"}).set_index('id')"
   ]
  },
  {
   "cell_type": "code",
   "execution_count": 65,
   "metadata": {},
   "outputs": [],
   "source": [
    "def standardize_seasons(r: pd.Series):\n",
    "    if r.loc['tm_location'] == 'H':\n",
    "        return r\n",
    "    \n",
    "    cols = ['nano', 'name', 'market', 'alias', 'alt_market', 'alt_alias', 'score', 'location']\n",
    "    for col in cols:\n",
    "        r.loc['tm_'+col] , r.loc['opp_'+col] = r.loc['opp_'+col], r.loc['tm_'+col]\n",
    "    \n",
    "    return r\n",
    "\n",
    "df_seasons = df_seasons.apply(standardize_seasons, axis=1)"
   ]
  },
  {
   "cell_type": "code",
   "execution_count": 66,
   "metadata": {},
   "outputs": [],
   "source": [
    "unique_seasons_cols = df_seasons.columns.difference(df_metadata.columns)\n",
    "df = df_metadata.join(df_seasons[unique_seasons_cols], validate='one_to_one')"
   ]
  },
  {
   "cell_type": "code",
   "execution_count": 67,
   "metadata": {},
   "outputs": [
    {
     "name": "stdout",
     "output_type": "stream",
     "text": [
      "Index(['alias', 'first_downs', 'fourth_down_att', 'fourth_down_conv',\n",
      "       'fourth_down_conv_pct', 'fumbles', 'fumbles_lost', 'market', 'name',\n",
      "       'nano', 'net_pass_yds', 'pass_att', 'pass_cmp', 'pass_cmp_pct',\n",
      "       'pass_int', 'pass_tds', 'pass_yds', 'passer_rating', 'penalties',\n",
      "       'penalty_yds', 'rush_att', 'rush_tds', 'rush_yds', 'third_down_att',\n",
      "       'third_down_conv', 'third_down_conv_pct', 'time_of_possession',\n",
      "       'times_sacked', 'total_yds', 'turnovers', 'yds_sacked_for'],\n",
      "      dtype='object')\n"
     ]
    }
   ],
   "source": [
    "unique_stats_cols = df_stats.columns.difference(df.columns)\n",
    "print(unique_stats_cols)\n",
    "df = df.merge(df_stats[unique_stats_cols].add_prefix('tm_'), on=['id','tm_alias'], suffixes=('', '_y'), validate='one_to_one')\n",
    "df = df.merge(df_stats[unique_stats_cols].add_prefix('opp_'), on=['id','opp_alias'], suffixes=('', '_y'), validate='one_to_one')"
   ]
  },
  {
   "cell_type": "code",
   "execution_count": 68,
   "metadata": {},
   "outputs": [
    {
     "data": {
      "text/plain": [
       "Index(['season', 'event_date', 'tm_nano', 'tm_market', 'tm_name', 'tm_alias',\n",
       "       'opp_nano', 'opp_market', 'opp_name', 'opp_alias', 'tm_spread',\n",
       "       'opp_spread', 'total', 'attendance', 'duration', 'roof_type',\n",
       "       'surface_type', 'won_toss', 'won_toss_decision', 'won_toss_overtime',\n",
       "       'won_toss_overtime_decision', 'temperature', 'humidity_pct',\n",
       "       'wind_speed', 'game_time', 'opp_alt_alias', 'opp_alt_market',\n",
       "       'opp_location', 'opp_score', 'status', 'tm_alt_alias', 'tm_alt_market',\n",
       "       'tm_location', 'tm_score', 'week', 'week_day', 'tm_first_downs',\n",
       "       'tm_fourth_down_att', 'tm_fourth_down_conv', 'tm_fourth_down_conv_pct',\n",
       "       'tm_fumbles', 'tm_fumbles_lost', 'tm_net_pass_yds', 'tm_pass_att',\n",
       "       'tm_pass_cmp', 'tm_pass_cmp_pct', 'tm_pass_int', 'tm_pass_tds',\n",
       "       'tm_pass_yds', 'tm_passer_rating', 'tm_penalties', 'tm_penalty_yds',\n",
       "       'tm_rush_att', 'tm_rush_tds', 'tm_rush_yds', 'tm_third_down_att',\n",
       "       'tm_third_down_conv', 'tm_third_down_conv_pct', 'tm_time_of_possession',\n",
       "       'tm_times_sacked', 'tm_total_yds', 'tm_turnovers', 'tm_yds_sacked_for',\n",
       "       'opp_first_downs', 'opp_fourth_down_att', 'opp_fourth_down_conv',\n",
       "       'opp_fourth_down_conv_pct', 'opp_fumbles', 'opp_fumbles_lost',\n",
       "       'opp_net_pass_yds', 'opp_pass_att', 'opp_pass_cmp', 'opp_pass_cmp_pct',\n",
       "       'opp_pass_int', 'opp_pass_tds', 'opp_pass_yds', 'opp_passer_rating',\n",
       "       'opp_penalties', 'opp_penalty_yds', 'opp_rush_att', 'opp_rush_tds',\n",
       "       'opp_rush_yds', 'opp_third_down_att', 'opp_third_down_conv',\n",
       "       'opp_third_down_conv_pct', 'opp_time_of_possession', 'opp_times_sacked',\n",
       "       'opp_total_yds', 'opp_turnovers', 'opp_yds_sacked_for'],\n",
       "      dtype='object')"
      ]
     },
     "execution_count": 68,
     "metadata": {},
     "output_type": "execute_result"
    }
   ],
   "source": [
    "df.drop(df.filter(regex='_y$').columns, axis=1, inplace=True)\n",
    "df.columns"
   ]
  },
  {
   "cell_type": "code",
   "execution_count": 69,
   "metadata": {},
   "outputs": [
    {
     "data": {
      "text/plain": [
       "'df.to_csv(*base_path)\\n\\ndf_train, df_test = train_test_split(df, test_size=0.2, shuffle=False)\\ndf_train.to_csv(str(train_path))\\ndf_test.to_csv(str(test_path))'"
      ]
     },
     "execution_count": 69,
     "metadata": {},
     "output_type": "execute_result"
    }
   ],
   "source": [
    "'''df.to_csv(*base_path)\n",
    "\n",
    "df_train, df_test = train_test_split(df, test_size=0.2, shuffle=False)\n",
    "df_train.to_csv(str(train_path))\n",
    "df_test.to_csv(str(test_path))'''"
   ]
  },
  {
   "cell_type": "code",
   "execution_count": 70,
   "metadata": {},
   "outputs": [],
   "source": [
    "df_tm_names = df[['tm_name', 'tm_market', 'tm_alias']]\n",
    "df_tm_names = df_tm_names.drop_duplicates()\n",
    "def remove_prefix(prefix):\n",
    "    return lambda x: x[len(prefix):]\n",
    "df_tm_names = df_tm_names.rename(remove_prefix('tm_'), axis='columns').set_index('alias')"
   ]
  },
  {
   "cell_type": "code",
   "execution_count": 71,
   "metadata": {},
   "outputs": [],
   "source": [
    "from src.config import DB_DATA_DIR\n",
    "tm_names_path = DB_DATA_DIR / \"tm_names.csv\"\n",
    "df_tm_names.to_csv(str(tm_names_path))"
   ]
  }
 ],
 "metadata": {
  "kernelspec": {
   "display_name": ".venv",
   "language": "python",
   "name": "python3"
  },
  "language_info": {
   "codemirror_mode": {
    "name": "ipython",
    "version": 3
   },
   "file_extension": ".py",
   "mimetype": "text/x-python",
   "name": "python",
   "nbconvert_exporter": "python",
   "pygments_lexer": "ipython3",
   "version": "3.10.4"
  }
 },
 "nbformat": 4,
 "nbformat_minor": 2
}
